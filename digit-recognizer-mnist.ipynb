{
 "cells": [
  {
   "cell_type": "markdown",
   "id": "labeled-right",
   "metadata": {
    "_cell_guid": "d4c08f48-fe23-4ddb-ac46-d97f05397514",
    "_uuid": "f2156d1dd26a1243e18512002e10872c5bd7271e",
    "papermill": {
     "duration": 0.032154,
     "end_time": "2021-05-21T15:00:12.779747",
     "exception": false,
     "start_time": "2021-05-21T15:00:12.747593",
     "status": "completed"
    },
    "tags": []
   },
   "source": [
    "\n",
    "\n",
    "* **1. Introduction**\n",
    "* **2. Data preparation**\n",
    "    * 2.1 Load data\n",
    "    * 2.2 Check for null and missing values\n",
    "    * 2.3 Normalization\n",
    "    * 2.4 Reshape\n",
    "    * 2.5 Label encoding\n",
    "    * 2.6 Split training and valdiation set\n",
    "* **3. CNN**\n",
    "    * 3.1 Define the model\n",
    "    * 3.2 Set the optimizer and annealer\n",
    "    * 3.3 Data augmentation\n",
    "* **4. Evaluate the model**\n",
    "    * 4.1 Training and validation curves\n",
    "    * 4.2 Confusion matrix\n",
    "* **5. Prediction and submition**\n",
    "    * 5.1 Predict and Submit results"
   ]
  },
  {
   "cell_type": "markdown",
   "id": "beginning-illinois",
   "metadata": {
    "_cell_guid": "eb88b372-a6e5-40c8-a1c6-c03799165490",
    "_uuid": "e9aff3cf1bb8daa73bec67b970d12195677679f3",
    "papermill": {
     "duration": 0.029745,
     "end_time": "2021-05-21T15:00:12.839599",
     "exception": false,
     "start_time": "2021-05-21T15:00:12.809854",
     "status": "completed"
    },
    "tags": []
   },
   "source": [
    "# 1. Introduction\n",
    "\n",
    "This is a 5 layers Sequential Convolutional Neural Network for digits recognition trained on MNIST dataset. I choosed to build it with keras API (Tensorflow backend) which is very intuitive. Firstly, I will prepare the data (handwritten digits images) then i will focus on the CNN modeling and evaluation.\n",
    "\n",
    "I achieved 99.671% of accuracy with this CNN trained in 2h30 on a single CPU (i5 2500k). For those who have a >= 3.0 GPU capabilites (from GTX 650 - to recent GPUs), you can use tensorflow-gpu with keras. Computation will be much much faster !!!\n",
    "\n",
    "**For computational reasons, i set the number of steps (epochs) to 2, if you want to achieve 99+% of accuracy set it to 30.**\n",
    "\n",
    "This Notebook follows three main parts:\n",
    "\n",
    "* The data preparation\n",
    "* The CNN modeling and evaluation\n",
    "* The results prediction and submission\n",
    "\n",
    "\n",
    "\n",
    "\n",
    "<img src=\"http://img1.imagilive.com/0717/mnist-sample.png\" ></img>"
   ]
  },
  {
   "cell_type": "code",
   "execution_count": 1,
   "id": "rapid-tourist",
   "metadata": {
    "_cell_guid": "f67b9393-8ea1-4e23-b856-2ce149cfe421",
    "_execution_state": "idle",
    "_uuid": "72334cb006d02a4bcfc2a2fe622524eba824c6f8",
    "execution": {
     "iopub.execute_input": "2021-05-21T15:00:12.905572Z",
     "iopub.status.busy": "2021-05-21T15:00:12.904046Z",
     "iopub.status.idle": "2021-05-21T15:00:18.630574Z",
     "shell.execute_reply": "2021-05-21T15:00:18.629966Z",
     "shell.execute_reply.started": "2021-05-21T14:54:32.268591Z"
    },
    "papermill": {
     "duration": 5.760592,
     "end_time": "2021-05-21T15:00:18.630724",
     "exception": false,
     "start_time": "2021-05-21T15:00:12.870132",
     "status": "completed"
    },
    "tags": []
   },
   "outputs": [],
   "source": [
    "import pandas as pd\n",
    "import numpy as np\n",
    "import matplotlib.pyplot as plt\n",
    "import matplotlib.image as mpimg\n",
    "import seaborn as sns\n",
    "%matplotlib inline\n",
    "\n",
    "np.random.seed(2)\n",
    "\n",
    "from sklearn.model_selection import train_test_split\n",
    "from sklearn.metrics import confusion_matrix\n",
    "import itertools\n",
    "\n",
    "from keras.utils.np_utils import to_categorical # convert to one-hot-encoding\n",
    "from keras.models import Sequential\n",
    "from keras.layers import Dense, Dropout, Flatten, Conv2D, MaxPool2D\n",
    "from keras.optimizers import RMSprop\n",
    "from keras.preprocessing.image import ImageDataGenerator\n",
    "from keras.callbacks import ReduceLROnPlateau\n",
    "\n",
    "\n",
    "sns.set(style='white', context='notebook', palette='deep')"
   ]
  },
  {
   "cell_type": "markdown",
   "id": "narrative-bleeding",
   "metadata": {
    "_cell_guid": "6d2fb3e6-ab71-4974-b5a2-4af1ebdb99f4",
    "_execution_state": "idle",
    "_uuid": "86061d98eccaa02efe0dab0fa3884e71fcf4c310",
    "papermill": {
     "duration": 0.030815,
     "end_time": "2021-05-21T15:00:18.691927",
     "exception": false,
     "start_time": "2021-05-21T15:00:18.661112",
     "status": "completed"
    },
    "tags": []
   },
   "source": [
    "# 2. Data preparation\n",
    "## 2.1 Load data"
   ]
  },
  {
   "cell_type": "code",
   "execution_count": 2,
   "id": "respective-blair",
   "metadata": {
    "_cell_guid": "5e51d00e-62fd-4141-bf73-50ac4f2da7d0",
    "_execution_state": "idle",
    "_uuid": "84bbd5ab8d7895bd430d5ecfe2f7ddf77baa7b74",
    "execution": {
     "iopub.execute_input": "2021-05-21T15:00:18.759047Z",
     "iopub.status.busy": "2021-05-21T15:00:18.758515Z",
     "iopub.status.idle": "2021-05-21T15:00:23.842134Z",
     "shell.execute_reply": "2021-05-21T15:00:23.842630Z",
     "shell.execute_reply.started": "2021-05-21T14:54:32.281453Z"
    },
    "papermill": {
     "duration": 5.119407,
     "end_time": "2021-05-21T15:00:23.842789",
     "exception": false,
     "start_time": "2021-05-21T15:00:18.723382",
     "status": "completed"
    },
    "tags": []
   },
   "outputs": [
    {
     "name": "stdout",
     "output_type": "stream",
     "text": [
      "Data are Ready!!\n"
     ]
    }
   ],
   "source": [
    "# Load the data\n",
    "train = pd.read_csv(\"../input/digit-recognizer/train.csv\")\n",
    "test = pd.read_csv(\"../input/digit-recognizer/test.csv\")\n",
    "sub = pd.read_csv('../input/digit-recognizer/sample_submission.csv')\n",
    "print(\"Data are Ready!!\")"
   ]
  },
  {
   "cell_type": "code",
   "execution_count": 3,
   "id": "welcome-canyon",
   "metadata": {
    "execution": {
     "iopub.execute_input": "2021-05-21T15:00:23.909064Z",
     "iopub.status.busy": "2021-05-21T15:00:23.908536Z",
     "iopub.status.idle": "2021-05-21T15:00:23.913696Z",
     "shell.execute_reply": "2021-05-21T15:00:23.913078Z",
     "shell.execute_reply.started": "2021-05-21T14:54:35.857894Z"
    },
    "papermill": {
     "duration": 0.040385,
     "end_time": "2021-05-21T15:00:23.913844",
     "exception": false,
     "start_time": "2021-05-21T15:00:23.873459",
     "status": "completed"
    },
    "tags": []
   },
   "outputs": [
    {
     "name": "stdout",
     "output_type": "stream",
     "text": [
      "Training data size is (42000, 785)\n",
      "Testing data size is (28000, 784)\n"
     ]
    }
   ],
   "source": [
    "print(f\"Training data size is {train.shape}\\nTesting data size is {test.shape}\")\n"
   ]
  },
  {
   "cell_type": "code",
   "execution_count": 4,
   "id": "caring-poultry",
   "metadata": {
    "_cell_guid": "86570a36-5c20-460a-9dfd-2070548532a7",
    "_execution_state": "idle",
    "_uuid": "1213b979d5ed3e0d13824d17d694c79d2ece92fa",
    "execution": {
     "iopub.execute_input": "2021-05-21T15:00:23.983321Z",
     "iopub.status.busy": "2021-05-21T15:00:23.982527Z",
     "iopub.status.idle": "2021-05-21T15:00:24.258892Z",
     "shell.execute_reply": "2021-05-21T15:00:24.259378Z",
     "shell.execute_reply.started": "2021-05-21T14:54:35.866751Z"
    },
    "papermill": {
     "duration": 0.314889,
     "end_time": "2021-05-21T15:00:24.259563",
     "exception": false,
     "start_time": "2021-05-21T15:00:23.944674",
     "status": "completed"
    },
    "tags": []
   },
   "outputs": [
    {
     "name": "stderr",
     "output_type": "stream",
     "text": [
      "/opt/conda/lib/python3.7/site-packages/seaborn/_decorators.py:43: FutureWarning: Pass the following variable as a keyword arg: x. From version 0.12, the only valid positional argument will be `data`, and passing other arguments without an explicit keyword will result in an error or misinterpretation.\n",
      "  FutureWarning\n"
     ]
    },
    {
     "data": {
      "text/plain": [
       "1    4684\n",
       "7    4401\n",
       "3    4351\n",
       "9    4188\n",
       "2    4177\n",
       "6    4137\n",
       "0    4132\n",
       "4    4072\n",
       "8    4063\n",
       "5    3795\n",
       "Name: label, dtype: int64"
      ]
     },
     "execution_count": 4,
     "metadata": {},
     "output_type": "execute_result"
    },
    {
     "data": {
      "image/png": "[encoded data removed]",
      "text/plain": [
       "<Figure size 432x288 with 1 Axes>"
      ]
     },
     "metadata": {},
     "output_type": "display_data"
    }
   ],
   "source": [
    "Y_train = train[\"label\"]\n",
    "\n",
    "# Drop 'label' column\n",
    "X_train = train.drop(labels = [\"label\"],axis = 1) \n",
    "\n",
    "# free some space\n",
    "del train \n",
    "\n",
    "g = sns.countplot(Y_train)\n",
    "\n",
    "Y_train.value_counts()"
   ]
  },
  {
   "cell_type": "markdown",
   "id": "postal-lexington",
   "metadata": {
    "_cell_guid": "5b7d4b66-a140-4fcc-a889-bcef007c880a",
    "_uuid": "5d77934302869925c19128c77e247b3c8ca84d71",
    "papermill": {
     "duration": 0.031181,
     "end_time": "2021-05-21T15:00:24.322746",
     "exception": false,
     "start_time": "2021-05-21T15:00:24.291565",
     "status": "completed"
    },
    "tags": []
   },
   "source": [
    "## 2.2 Check for null and missing values"
   ]
  },
  {
   "cell_type": "code",
   "execution_count": 5,
   "id": "seventh-tours",
   "metadata": {
    "_cell_guid": "ececaa00-2ae3-4d13-b631-438df085b030",
    "_execution_state": "idle",
    "_uuid": "cdf27c27e2a5b15e6d7bfc70de7a18c08f3feb7a",
    "execution": {
     "iopub.execute_input": "2021-05-21T15:00:24.390646Z",
     "iopub.status.busy": "2021-05-21T15:00:24.389557Z",
     "iopub.status.idle": "2021-05-21T15:00:24.424331Z",
     "shell.execute_reply": "2021-05-21T15:00:24.423859Z",
     "shell.execute_reply.started": "2021-05-21T14:54:36.157340Z"
    },
    "papermill": {
     "duration": 0.070103,
     "end_time": "2021-05-21T15:00:24.424473",
     "exception": false,
     "start_time": "2021-05-21T15:00:24.354370",
     "status": "completed"
    },
    "tags": []
   },
   "outputs": [
    {
     "data": {
      "text/plain": [
       "count       784\n",
       "unique        1\n",
       "top       False\n",
       "freq        784\n",
       "dtype: object"
      ]
     },
     "execution_count": 5,
     "metadata": {},
     "output_type": "execute_result"
    }
   ],
   "source": [
    "# Check the data\n",
    "X_train.isnull().any().describe()"
   ]
  },
  {
   "cell_type": "code",
   "execution_count": 6,
   "id": "large-graphic",
   "metadata": {
    "_cell_guid": "92572e80-8543-4e72-8767-5c9be8381b04",
    "_execution_state": "idle",
    "_uuid": "a0089bb7ec9aec76373db475399aea24699ae989",
    "execution": {
     "iopub.execute_input": "2021-05-21T15:00:24.494464Z",
     "iopub.status.busy": "2021-05-21T15:00:24.493077Z",
     "iopub.status.idle": "2021-05-21T15:00:24.507074Z",
     "shell.execute_reply": "2021-05-21T15:00:24.506664Z",
     "shell.execute_reply.started": "2021-05-21T14:54:36.195438Z"
    },
    "papermill": {
     "duration": 0.050251,
     "end_time": "2021-05-21T15:00:24.507192",
     "exception": false,
     "start_time": "2021-05-21T15:00:24.456941",
     "status": "completed"
    },
    "tags": []
   },
   "outputs": [
    {
     "data": {
      "text/plain": [
       "count       784\n",
       "unique        1\n",
       "top       False\n",
       "freq        784\n",
       "dtype: object"
      ]
     },
     "execution_count": 6,
     "metadata": {},
     "output_type": "execute_result"
    }
   ],
   "source": [
    "test.isnull().any().describe()"
   ]
  },
  {
   "cell_type": "markdown",
   "id": "frank-adelaide",
   "metadata": {
    "_cell_guid": "09d04cae-4245-4659-85dd-ef48531da295",
    "_uuid": "c0bee59691c2df0b275c78e38e7f9907d02ac038",
    "papermill": {
     "duration": 0.035148,
     "end_time": "2021-05-21T15:00:24.574710",
     "exception": false,
     "start_time": "2021-05-21T15:00:24.539562",
     "status": "completed"
    },
    "tags": []
   },
   "source": [
    "I check for corrupted images (missing values inside).\n",
    "\n",
    "There is no missing values in the train and test dataset. So we can safely go ahead."
   ]
  },
  {
   "cell_type": "markdown",
   "id": "arabic-representation",
   "metadata": {
    "_cell_guid": "6812040d-80ad-43d2-a571-275f4f20067b",
    "_uuid": "2954681f25f0dcbe986e6914396cdbce61db591f",
    "papermill": {
     "duration": 0.032947,
     "end_time": "2021-05-21T15:00:24.640794",
     "exception": false,
     "start_time": "2021-05-21T15:00:24.607847",
     "status": "completed"
    },
    "tags": []
   },
   "source": [
    "## 2.3 Normalization"
   ]
  },
  {
   "cell_type": "markdown",
   "id": "saving-audio",
   "metadata": {
    "_cell_guid": "159d5854-437a-4d0f-bc1e-fc3f7e43d178",
    "_uuid": "0ecf4b52510ab7957d0d4eb646c0aa1ba5986273",
    "papermill": {
     "duration": 0.033637,
     "end_time": "2021-05-21T15:00:24.707981",
     "exception": false,
     "start_time": "2021-05-21T15:00:24.674344",
     "status": "completed"
    },
    "tags": []
   },
   "source": [
    "We perform a grayscale normalization to reduce the effect of illumination's differences. \n",
    "\n",
    "Moreover the CNN converg faster on [0..1] data than on [0..255]."
   ]
  },
  {
   "cell_type": "code",
   "execution_count": 7,
   "id": "removable-belarus",
   "metadata": {
    "_cell_guid": "cdc4340b-6e24-4e12-be99-ac806098ff17",
    "_execution_state": "idle",
    "_uuid": "b5d4f8fcf2a967e2c7d57daedf95aa8c5ab7f8cb",
    "execution": {
     "iopub.execute_input": "2021-05-21T15:00:24.792256Z",
     "iopub.status.busy": "2021-05-21T15:00:24.788958Z",
     "iopub.status.idle": "2021-05-21T15:00:24.945351Z",
     "shell.execute_reply": "2021-05-21T15:00:24.944191Z",
     "shell.execute_reply.started": "2021-05-21T14:54:36.215943Z"
    },
    "papermill": {
     "duration": 0.204465,
     "end_time": "2021-05-21T15:00:24.945493",
     "exception": false,
     "start_time": "2021-05-21T15:00:24.741028",
     "status": "completed"
    },
    "tags": []
   },
   "outputs": [],
   "source": [
    "# Normalize the data\n",
    "X_train = X_train / 255.0\n",
    "test = test / 255.0"
   ]
  },
  {
   "cell_type": "markdown",
   "id": "emerging-factory",
   "metadata": {
    "_cell_guid": "7413df94-bcb9-4f75-b174-c127d4445766",
    "_uuid": "a66741bf1ac597094f3a3166877008feef27c519",
    "papermill": {
     "duration": 0.032005,
     "end_time": "2021-05-21T15:00:25.009906",
     "exception": false,
     "start_time": "2021-05-21T15:00:24.977901",
     "status": "completed"
    },
    "tags": []
   },
   "source": [
    "## 2.3 Reshape"
   ]
  },
  {
   "cell_type": "code",
   "execution_count": 8,
   "id": "square-research",
   "metadata": {
    "_cell_guid": "34b6a5f7-8fd2-4387-8ef4-c9dc19584fed",
    "_execution_state": "idle",
    "_uuid": "f0a6ad80dab8e0f2c2e46165ccd9cd82dd162bc3",
    "execution": {
     "iopub.execute_input": "2021-05-21T15:00:25.080062Z",
     "iopub.status.busy": "2021-05-21T15:00:25.078626Z",
     "iopub.status.idle": "2021-05-21T15:00:25.080891Z",
     "shell.execute_reply": "2021-05-21T15:00:25.081296Z",
     "shell.execute_reply.started": "2021-05-21T14:54:36.390072Z"
    },
    "papermill": {
     "duration": 0.039448,
     "end_time": "2021-05-21T15:00:25.081442",
     "exception": false,
     "start_time": "2021-05-21T15:00:25.041994",
     "status": "completed"
    },
    "tags": []
   },
   "outputs": [],
   "source": [
    "# Reshape image in 3 dimensions (height = 28px, width = 28px , canal = 1)\n",
    "X_train = X_train.values.reshape(-1,28,28,1)\n",
    "test = test.values.reshape(-1,28,28,1)"
   ]
  },
  {
   "cell_type": "markdown",
   "id": "drawn-thursday",
   "metadata": {
    "_cell_guid": "8decd1ce-7b7e-431d-8458-eaca18e0e1f7",
    "_uuid": "f4fb5553e188d9956f5d8b3a5d275ab00ea667ce",
    "papermill": {
     "duration": 0.032008,
     "end_time": "2021-05-21T15:00:25.146131",
     "exception": false,
     "start_time": "2021-05-21T15:00:25.114123",
     "status": "completed"
    },
    "tags": []
   },
   "source": [
    "Train and test images (28px x 28px) has been stock into pandas.Dataframe as 1D vectors of 784 values. We reshape all data to 28x28x1 3D matrices. \n",
    "\n",
    "Keras requires an extra dimension in the end which correspond to channels. MNIST images are gray scaled so it use only one channel. For RGB images, there is 3 channels, we would have reshaped 784px vectors to 28x28x3 3D matrices. "
   ]
  },
  {
   "cell_type": "markdown",
   "id": "static-volume",
   "metadata": {
    "_cell_guid": "bdb422e2-bdec-444f-97a5-283a1e54bf2c",
    "_uuid": "39b7a31e843bac6b705461bcce89da216b91799e",
    "papermill": {
     "duration": 0.031646,
     "end_time": "2021-05-21T15:00:25.210298",
     "exception": false,
     "start_time": "2021-05-21T15:00:25.178652",
     "status": "completed"
    },
    "tags": []
   },
   "source": [
    "## 2.5 Label encoding"
   ]
  },
  {
   "cell_type": "code",
   "execution_count": 9,
   "id": "elegant-booking",
   "metadata": {
    "_cell_guid": "4b7f3e78-44dc-4561-b1f0-9429ee024cf4",
    "_execution_state": "idle",
    "_uuid": "cabefd1478d5c1bdfe57fd6a34395340916a854c",
    "execution": {
     "iopub.execute_input": "2021-05-21T15:00:25.278720Z",
     "iopub.status.busy": "2021-05-21T15:00:25.277894Z",
     "iopub.status.idle": "2021-05-21T15:00:25.281822Z",
     "shell.execute_reply": "2021-05-21T15:00:25.282226Z",
     "shell.execute_reply.started": "2021-05-21T14:54:36.399029Z"
    },
    "papermill": {
     "duration": 0.040356,
     "end_time": "2021-05-21T15:00:25.282381",
     "exception": false,
     "start_time": "2021-05-21T15:00:25.242025",
     "status": "completed"
    },
    "tags": []
   },
   "outputs": [],
   "source": [
    "# Encode labels to one hot vectors (ex : 2 -> [0,0,1,0,0,0,0,0,0,0])\n",
    "Y_train = to_categorical(Y_train, num_classes = 10)"
   ]
  },
  {
   "cell_type": "markdown",
   "id": "physical-calcium",
   "metadata": {
    "_cell_guid": "ae068bd8-b12e-4768-8a7e-0fc865dd7562",
    "_uuid": "dcfb688587dfc6feafd27442a3505e35dc01b82d",
    "papermill": {
     "duration": 0.032098,
     "end_time": "2021-05-21T15:00:25.347124",
     "exception": false,
     "start_time": "2021-05-21T15:00:25.315026",
     "status": "completed"
    },
    "tags": []
   },
   "source": [
    "Labels are 10 digits numbers from 0 to 9. We need to encode these lables to one hot vectors (ex : 2 -> [0,0,1,0,0,0,0,0,0,0])."
   ]
  },
  {
   "cell_type": "markdown",
   "id": "absolute-straight",
   "metadata": {
    "_cell_guid": "32152fc3-a570-4d64-8a7d-6c689a4acd33",
    "_uuid": "d8abbbf31483b94e1b29d07c4c8253d1311648a7",
    "papermill": {
     "duration": 0.031912,
     "end_time": "2021-05-21T15:00:25.411196",
     "exception": false,
     "start_time": "2021-05-21T15:00:25.379284",
     "status": "completed"
    },
    "tags": []
   },
   "source": [
    "## 2.6 Split training and valdiation set "
   ]
  },
  {
   "cell_type": "code",
   "execution_count": 10,
   "id": "exact-northeast",
   "metadata": {
    "_cell_guid": "3a698301-9759-4279-ae48-fd980f89ea53",
    "_execution_state": "idle",
    "_uuid": "6e51c925c6e0f1b936679c9649fef345c853555f",
    "execution": {
     "iopub.execute_input": "2021-05-21T15:00:25.480228Z",
     "iopub.status.busy": "2021-05-21T15:00:25.479701Z",
     "iopub.status.idle": "2021-05-21T15:00:25.483570Z",
     "shell.execute_reply": "2021-05-21T15:00:25.483134Z",
     "shell.execute_reply.started": "2021-05-21T14:54:36.411746Z"
    },
    "papermill": {
     "duration": 0.039805,
     "end_time": "2021-05-21T15:00:25.483686",
     "exception": false,
     "start_time": "2021-05-21T15:00:25.443881",
     "status": "completed"
    },
    "tags": []
   },
   "outputs": [],
   "source": [
    "# Set the random seed\n",
    "random_seed = 2"
   ]
  },
  {
   "cell_type": "code",
   "execution_count": 11,
   "id": "unlimited-wheel",
   "metadata": {
    "_cell_guid": "dcd25ebb-d845-4d32-9867-082e352b1396",
    "_execution_state": "idle",
    "_uuid": "b779ac76d8317647db92d5a88b4098d212d72884",
    "execution": {
     "iopub.execute_input": "2021-05-21T15:00:25.554374Z",
     "iopub.status.busy": "2021-05-21T15:00:25.553475Z",
     "iopub.status.idle": "2021-05-21T15:00:26.035665Z",
     "shell.execute_reply": "2021-05-21T15:00:26.034897Z",
     "shell.execute_reply.started": "2021-05-21T14:54:36.419347Z"
    },
    "papermill": {
     "duration": 0.520219,
     "end_time": "2021-05-21T15:00:26.035848",
     "exception": false,
     "start_time": "2021-05-21T15:00:25.515629",
     "status": "completed"
    },
    "tags": []
   },
   "outputs": [],
   "source": [
    "# Split the train and the validation set for the fitting\n",
    "X_train, X_val, Y_train, Y_val = train_test_split(X_train, Y_train, test_size = 0.1, random_state=random_seed)"
   ]
  },
  {
   "cell_type": "markdown",
   "id": "variable-configuration",
   "metadata": {
    "_cell_guid": "3c99964f-4500-4f1c-947d-c67e644e34db",
    "_uuid": "72ed54a305eebf80e8b8b0f7eabde1332a5a85a3",
    "papermill": {
     "duration": 0.052232,
     "end_time": "2021-05-21T15:00:26.142103",
     "exception": false,
     "start_time": "2021-05-21T15:00:26.089871",
     "status": "completed"
    },
    "tags": []
   },
   "source": [
    "I choosed to split the train set in two parts : a small fraction (10%) became the validation set which the model is evaluated and the rest (90%) is used to train the model.\n",
    "\n",
    "Since we have 42 000 training images of balanced labels (see 2.1 Load data), a random split of the train set doesn't cause some labels to be over represented in the validation set. Be carefull with some unbalanced dataset a simple random split could cause inaccurate evaluation during the validation. \n",
    "\n",
    "To avoid that, you could use stratify = True option in train_test_split function (**Only for >=0.17 sklearn versions**)."
   ]
  },
  {
   "cell_type": "markdown",
   "id": "falling-bernard",
   "metadata": {
    "_cell_guid": "adbeacf0-0dc0-4675-b2df-9c9663750f32",
    "_uuid": "60eed15ec5bc0d354385301789ecb8538fc02267",
    "papermill": {
     "duration": 0.032012,
     "end_time": "2021-05-21T15:00:26.225272",
     "exception": false,
     "start_time": "2021-05-21T15:00:26.193260",
     "status": "completed"
    },
    "tags": []
   },
   "source": [
    "We can get a better sense for one of these examples by visualising the image and looking at the label."
   ]
  },
  {
   "cell_type": "code",
   "execution_count": 12,
   "id": "chief-synthetic",
   "metadata": {
    "_cell_guid": "5f76131b-4ba0-45f1-a98c-bd4e7d561793",
    "_execution_state": "idle",
    "_uuid": "e0dae8943d3d35f075dba3d7ba31bde1d4bf2ff4",
    "execution": {
     "iopub.execute_input": "2021-05-21T15:00:26.303694Z",
     "iopub.status.busy": "2021-05-21T15:00:26.302882Z",
     "iopub.status.idle": "2021-05-21T15:00:26.433745Z",
     "shell.execute_reply": "2021-05-21T15:00:26.434144Z",
     "shell.execute_reply.started": "2021-05-21T14:54:36.803680Z"
    },
    "papermill": {
     "duration": 0.176828,
     "end_time": "2021-05-21T15:00:26.434286",
     "exception": false,
     "start_time": "2021-05-21T15:00:26.257458",
     "status": "completed"
    },
    "tags": []
   },
   "outputs": [
    {
     "data": {
      "image/png": "[encoded data removed]",
      "text/plain": [
       "<Figure size 432x288 with 1 Axes>"
      ]
     },
     "metadata": {},
     "output_type": "display_data"
    }
   ],
   "source": [
    "# Some examples\n",
    "g = plt.imshow(X_train[0][:,:,0])"
   ]
  },
  {
   "cell_type": "markdown",
   "id": "prerequisite-yellow",
   "metadata": {
    "_cell_guid": "d5265777-aeb3-449d-b171-d88cad74c0a4",
    "_uuid": "5fa18b37a9acd9e098bac1d12264b0dd4310fdd3",
    "papermill": {
     "duration": 0.032414,
     "end_time": "2021-05-21T15:00:26.499201",
     "exception": false,
     "start_time": "2021-05-21T15:00:26.466787",
     "status": "completed"
    },
    "tags": []
   },
   "source": [
    "# 3. CNN\n",
    "## 3.1 Define the model"
   ]
  },
  {
   "cell_type": "markdown",
   "id": "liable-patrol",
   "metadata": {
    "_cell_guid": "504fa00e-148c-4364-9b68-218b3aaedfdb",
    "_uuid": "7697570491420f957f6e4d3569d51410b5277250",
    "papermill": {
     "duration": 0.032474,
     "end_time": "2021-05-21T15:00:26.564406",
     "exception": false,
     "start_time": "2021-05-21T15:00:26.531932",
     "status": "completed"
    },
    "tags": []
   },
   "source": [
    "I used the Keras Sequential API, where you have just to add one layer at a time, starting from the input.\n",
    "\n",
    "The first is the convolutional (Conv2D) layer. It is like a set of learnable filters. I choosed to set 32 filters for the two firsts conv2D layers and 64 filters for the two last ones. Each filter transforms a part of the image (defined by the kernel size) using the kernel filter. The kernel filter matrix is applied on the whole image. Filters can be seen as a transformation of the image.\n",
    "\n",
    "The CNN can isolate features that are useful everywhere from these transformed images (feature maps).\n",
    "\n",
    "The second important layer in CNN is the pooling (MaxPool2D) layer. This layer simply acts as a downsampling filter. It looks at the 2 neighboring pixels and picks the maximal value. These are used to reduce computational cost, and to some extent also reduce overfitting. We have to choose the pooling size (i.e the area size pooled each time) more the pooling dimension is high, more the downsampling is important. \n",
    "\n",
    "Combining convolutional and pooling layers, CNN are able to combine local features and learn more global features of the image.\n",
    "\n",
    "Dropout is a regularization method, where a proportion of nodes in the layer are randomly ignored (setting their wieghts to zero) for each training sample. This drops randomly a propotion of the network and forces the network to learn features in a distributed way. This technique also improves generalization and reduces the overfitting. \n",
    "\n",
    "'relu' is the rectifier (activation function max(0,x). The rectifier activation function is used to add non linearity to the network. \n",
    "\n",
    "The Flatten layer is use to convert the final feature maps into a one single 1D vector. This flattening step is needed so that you can make use of fully connected layers after some convolutional/maxpool layers. It combines all the found local features of the previous convolutional layers.\n",
    "\n",
    "In the end i used the features in two fully-connected (Dense) layers which is just artificial an neural networks (ANN) classifier. In the last layer(Dense(10,activation=\"softmax\")) the net outputs distribution of probability of each class."
   ]
  },
  {
   "cell_type": "code",
   "execution_count": 13,
   "id": "julian-bristol",
   "metadata": {
    "_cell_guid": "1e0f3f88-2ad7-459e-8e02-aecc5f3511ae",
    "_execution_state": "idle",
    "_uuid": "f7991ef6871a26f9fa57acdcd460a69bab53e804",
    "execution": {
     "iopub.execute_input": "2021-05-21T15:00:26.788036Z",
     "iopub.status.busy": "2021-05-21T15:00:26.787296Z",
     "iopub.status.idle": "2021-05-21T15:00:28.912858Z",
     "shell.execute_reply": "2021-05-21T15:00:28.912373Z",
     "shell.execute_reply.started": "2021-05-21T14:54:36.960115Z"
    },
    "papermill": {
     "duration": 2.316172,
     "end_time": "2021-05-21T15:00:28.912986",
     "exception": false,
     "start_time": "2021-05-21T15:00:26.596814",
     "status": "completed"
    },
    "tags": []
   },
   "outputs": [],
   "source": [
    "# Set the CNN model \n",
    "# my CNN architechture is In -> [[Conv2D->relu]*2 -> MaxPool2D -> Dropout]*2 -> Flatten -> Dense -> Dropout -> Out\n",
    "\n",
    "model = Sequential()\n",
    "\n",
    "model.add(Conv2D(filters = 32, kernel_size = (5,5),padding = 'Same', \n",
    "                 activation ='relu', input_shape = (28,28,1)))\n",
    "model.add(Conv2D(filters = 32, kernel_size = (5,5),padding = 'Same', \n",
    "                 activation ='relu'))\n",
    "model.add(MaxPool2D(pool_size=(2,2)))\n",
    "model.add(Dropout(0.25))\n",
    "\n",
    "\n",
    "model.add(Conv2D(filters = 64, kernel_size = (3,3),padding = 'Same', \n",
    "                 activation ='relu'))\n",
    "model.add(Conv2D(filters = 64, kernel_size = (3,3),padding = 'Same', \n",
    "                 activation ='relu'))\n",
    "model.add(MaxPool2D(pool_size=(2,2), strides=(2,2)))\n",
    "model.add(Dropout(0.25))\n",
    "\n",
    "\n",
    "model.add(Flatten())\n",
    "model.add(Dense(256, activation = \"relu\"))\n",
    "model.add(Dropout(0.5))\n",
    "model.add(Dense(10, activation = \"softmax\"))"
   ]
  },
  {
   "cell_type": "markdown",
   "id": "future-prime",
   "metadata": {
    "_cell_guid": "0e26b6a3-ef9d-4ae5-9d79-d5e4b073251a",
    "_uuid": "7065512cf892ba49f0c06e239e3a20ff13667ef2",
    "papermill": {
     "duration": 0.034316,
     "end_time": "2021-05-21T15:00:28.981721",
     "exception": false,
     "start_time": "2021-05-21T15:00:28.947405",
     "status": "completed"
    },
    "tags": []
   },
   "source": [
    "## 3.2 Set the optimizer and annealer\n",
    "\n",
    "Once our layers are added to the model, we need to set up a score function, a loss function and an optimisation algorithm.\n",
    "\n",
    "We define the loss function to measure how poorly our model performs on images with known labels. It is the error rate between the oberved labels and the predicted ones. We use a specific form for categorical classifications (>2 classes) called the \"categorical_crossentropy\".\n",
    "\n",
    "The most important function is the optimizer. This function will iteratively improve parameters (filters kernel values, weights and bias of neurons ...) in order to minimise the loss. \n",
    "\n",
    "I choosed RMSprop (with default values), it is a very effective optimizer. The RMSProp update adjusts the Adagrad method in a very simple way in an attempt to reduce its aggressive, monotonically decreasing learning rate.\n",
    "We could also have used Stochastic Gradient Descent ('sgd') optimizer, but it is slower than RMSprop.\n",
    "\n",
    "The metric function \"accuracy\" is used is to evaluate the performance our model.\n",
    "This metric function is similar to the loss function, except that the results from the metric evaluation are not used when training the model (only for evaluation)."
   ]
  },
  {
   "cell_type": "code",
   "execution_count": 14,
   "id": "paperback-investing",
   "metadata": {
    "_cell_guid": "a4c55409-6a65-400a-b5e8-a1dc535429c0",
    "_execution_state": "idle",
    "_uuid": "420c704367b397b8255fefe9d882b35ac8929b95",
    "execution": {
     "iopub.execute_input": "2021-05-21T15:00:29.051903Z",
     "iopub.status.busy": "2021-05-21T15:00:29.051357Z",
     "iopub.status.idle": "2021-05-21T15:00:29.055388Z",
     "shell.execute_reply": "2021-05-21T15:00:29.054905Z",
     "shell.execute_reply.started": "2021-05-21T14:54:39.143108Z"
    },
    "papermill": {
     "duration": 0.040706,
     "end_time": "2021-05-21T15:00:29.055518",
     "exception": false,
     "start_time": "2021-05-21T15:00:29.014812",
     "status": "completed"
    },
    "tags": []
   },
   "outputs": [],
   "source": [
    "# Define the optimizer\n",
    "optimizer = RMSprop(lr=0.001, rho=0.9, epsilon=1e-08, decay=0.0)"
   ]
  },
  {
   "cell_type": "code",
   "execution_count": 15,
   "id": "million-tamil",
   "metadata": {
    "_cell_guid": "0bd89b79-1a74-40da-af9a-7a76a8b96ff2",
    "_execution_state": "idle",
    "_uuid": "b4c0288622227a3cd05479aa765e324dbb852f34",
    "execution": {
     "iopub.execute_input": "2021-05-21T15:00:29.133183Z",
     "iopub.status.busy": "2021-05-21T15:00:29.132351Z",
     "iopub.status.idle": "2021-05-21T15:00:29.138194Z",
     "shell.execute_reply": "2021-05-21T15:00:29.138602Z",
     "shell.execute_reply.started": "2021-05-21T14:54:39.151368Z"
    },
    "papermill": {
     "duration": 0.050087,
     "end_time": "2021-05-21T15:00:29.138754",
     "exception": false,
     "start_time": "2021-05-21T15:00:29.088667",
     "status": "completed"
    },
    "tags": []
   },
   "outputs": [],
   "source": [
    "# Compile the model\n",
    "model.compile(optimizer = optimizer , loss = \"categorical_crossentropy\", metrics=[\"accuracy\"])"
   ]
  },
  {
   "cell_type": "markdown",
   "id": "detailed-integer",
   "metadata": {
    "_cell_guid": "6bc49be3-11e5-48fb-b70f-601aec0f0c86",
    "_uuid": "f4d89b29d55b328e8c446880505c54e674eeec38",
    "papermill": {
     "duration": 0.032635,
     "end_time": "2021-05-21T15:00:29.204640",
     "exception": false,
     "start_time": "2021-05-21T15:00:29.172005",
     "status": "completed"
    },
    "tags": []
   },
   "source": [
    "<img src=\"http://img1.imagilive.com/0717/learningrates.jpg\"> </img>"
   ]
  },
  {
   "cell_type": "markdown",
   "id": "handed-viewer",
   "metadata": {
    "_cell_guid": "35b826b6-c516-47d0-8469-f8d04a102118",
    "_uuid": "bb90d48f4426d1baeb0404f2431e04e3cade59df",
    "papermill": {
     "duration": 0.032376,
     "end_time": "2021-05-21T15:00:29.269838",
     "exception": false,
     "start_time": "2021-05-21T15:00:29.237462",
     "status": "completed"
    },
    "tags": []
   },
   "source": [
    "In order to make the optimizer converge faster and closest to the global minimum of the loss function, i used an annealing method of the learning rate (LR).\n",
    "\n",
    "The LR is the step by which the optimizer walks through the 'loss landscape'. The higher LR, the bigger are the steps and the quicker is the convergence. However the sampling is very poor with an high LR and the optimizer could probably fall into a local minima.\n",
    "\n",
    "Its better to have a decreasing learning rate during the training to reach efficiently the global minimum of the loss function. \n",
    "\n",
    "To keep the advantage of the fast computation time with a high LR, i decreased the LR dynamically every X steps (epochs) depending if it is necessary (when accuracy is not improved).\n",
    "\n",
    "With the ReduceLROnPlateau function from Keras.callbacks, i choose to reduce the LR by half if the accuracy is not improved after 3 epochs."
   ]
  },
  {
   "cell_type": "code",
   "execution_count": 16,
   "id": "innovative-melbourne",
   "metadata": {
    "_cell_guid": "b5987a18-6bbe-42a2-9d31-333ebc4f7af1",
    "_execution_state": "idle",
    "_uuid": "c4a5b4e462ec5362c47eef4fcc7956fd4e203307",
    "execution": {
     "iopub.execute_input": "2021-05-21T15:00:29.339378Z",
     "iopub.status.busy": "2021-05-21T15:00:29.338819Z",
     "iopub.status.idle": "2021-05-21T15:00:29.342432Z",
     "shell.execute_reply": "2021-05-21T15:00:29.342799Z",
     "shell.execute_reply.started": "2021-05-21T14:54:39.169150Z"
    },
    "papermill": {
     "duration": 0.040467,
     "end_time": "2021-05-21T15:00:29.342931",
     "exception": false,
     "start_time": "2021-05-21T15:00:29.302464",
     "status": "completed"
    },
    "tags": []
   },
   "outputs": [],
   "source": [
    "# Set a learning rate annealer\n",
    "learning_rate_reduction = ReduceLROnPlateau(monitor='val_acc', \n",
    "                                            patience=3, \n",
    "                                            verbose=1, \n",
    "                                            factor=0.5, \n",
    "                                            min_lr=0.00001)"
   ]
  },
  {
   "cell_type": "code",
   "execution_count": 17,
   "id": "organized-dependence",
   "metadata": {
    "_cell_guid": "970db455-b393-4b25-806d-92c6766c12c0",
    "_execution_state": "idle",
    "_uuid": "26b0647c46efdb6b1096cf7335a7bf2a3417543a",
    "execution": {
     "iopub.execute_input": "2021-05-21T15:00:29.413093Z",
     "iopub.status.busy": "2021-05-21T15:00:29.411593Z",
     "iopub.status.idle": "2021-05-21T15:00:29.413814Z",
     "shell.execute_reply": "2021-05-21T15:00:29.414260Z",
     "shell.execute_reply.started": "2021-05-21T14:54:39.179387Z"
    },
    "papermill": {
     "duration": 0.038962,
     "end_time": "2021-05-21T15:00:29.414410",
     "exception": false,
     "start_time": "2021-05-21T15:00:29.375448",
     "status": "completed"
    },
    "tags": []
   },
   "outputs": [],
   "source": [
    "epochs = 1 # Turn epochs to 30 to get 0.9967 accuracy\n",
    "batch_size = 86"
   ]
  },
  {
   "cell_type": "markdown",
   "id": "suitable-abuse",
   "metadata": {
    "_cell_guid": "241a0f4f-13f5-4b13-be1e-4e3e4a714c06",
    "_uuid": "f24df64b223e0177c94025b6767ab19b722c5386",
    "papermill": {
     "duration": 0.032928,
     "end_time": "2021-05-21T15:00:29.479885",
     "exception": false,
     "start_time": "2021-05-21T15:00:29.446957",
     "status": "completed"
    },
    "tags": []
   },
   "source": [
    "## 3.3 Data augmentation "
   ]
  },
  {
   "cell_type": "markdown",
   "id": "specialized-worth",
   "metadata": {
    "_cell_guid": "e2d41e30-0724-40fb-a901-750e514ba9f9",
    "_uuid": "9e498b91419439f0fa791e595f202d9a0d56ad6b",
    "papermill": {
     "duration": 0.032396,
     "end_time": "2021-05-21T15:00:29.544788",
     "exception": false,
     "start_time": "2021-05-21T15:00:29.512392",
     "status": "completed"
    },
    "tags": []
   },
   "source": [
    "In order to avoid overfitting problem, we need to expand artificially our handwritten digit dataset. We can make your existing dataset even larger. The idea is to alter the training data with small transformations to reproduce the variations occuring when someone is writing a digit.\n",
    "\n",
    "For example, the number is not centered \n",
    "The scale is not the same (some who write with big/small numbers)\n",
    "The image is rotated...\n",
    "\n",
    "Approaches that alter the training data in ways that change the array representation while keeping the label the same are known as data augmentation techniques. Some popular augmentations people use are grayscales, horizontal flips, vertical flips, random crops, color jitters, translations, rotations, and much more. \n",
    "\n",
    "By applying just a couple of these transformations to our training data, we can easily double or triple the number of training examples and create a very robust model.\n",
    "\n",
    "The improvement is important : \n",
    "   - Without data augmentation i obtained an accuracy of 98.114%\n",
    "   - With data augmentation i achieved 99.67% of accuracy"
   ]
  },
  {
   "cell_type": "code",
   "execution_count": 18,
   "id": "front-queensland",
   "metadata": {
    "_cell_guid": "ade93d2d-90c6-4401-af95-f7d65f8c0a20",
    "_execution_state": "idle",
    "_uuid": "d4e9e1ade3c04f9ca4d8cd44e799f9e09524d5a1",
    "execution": {
     "iopub.execute_input": "2021-05-21T15:00:29.614159Z",
     "iopub.status.busy": "2021-05-21T15:00:29.613367Z",
     "iopub.status.idle": "2021-05-21T15:00:29.616049Z",
     "shell.execute_reply": "2021-05-21T15:00:29.615567Z",
     "shell.execute_reply.started": "2021-05-21T14:54:39.186777Z"
    },
    "papermill": {
     "duration": 0.038651,
     "end_time": "2021-05-21T15:00:29.616153",
     "exception": false,
     "start_time": "2021-05-21T15:00:29.577502",
     "status": "completed"
    },
    "tags": []
   },
   "outputs": [],
   "source": [
    "# Without data augmentation i obtained an accuracy of 0.98114\n",
    "#history = model.fit(X_train, Y_train, batch_size = batch_size, epochs = epochs, \n",
    "#          validation_data = (X_val, Y_val), verbose = 2)"
   ]
  },
  {
   "cell_type": "code",
   "execution_count": 19,
   "id": "accepted-blogger",
   "metadata": {
    "_cell_guid": "b342befe-1a6f-44bf-8dab-28033a729122",
    "_execution_state": "idle",
    "_uuid": "21d6192c87d92d497c797656474bccd9cefc5647",
    "execution": {
     "iopub.execute_input": "2021-05-21T15:00:29.687117Z",
     "iopub.status.busy": "2021-05-21T15:00:29.686120Z",
     "iopub.status.idle": "2021-05-21T15:00:29.779576Z",
     "shell.execute_reply": "2021-05-21T15:00:29.779959Z",
     "shell.execute_reply.started": "2021-05-21T14:54:39.198141Z"
    },
    "papermill": {
     "duration": 0.131574,
     "end_time": "2021-05-21T15:00:29.780113",
     "exception": false,
     "start_time": "2021-05-21T15:00:29.648539",
     "status": "completed"
    },
    "tags": []
   },
   "outputs": [],
   "source": [
    "# With data augmentation to prevent overfitting (accuracy 0.99286)\n",
    "\n",
    "datagen = ImageDataGenerator(\n",
    "        featurewise_center=False,  # set input mean to 0 over the dataset\n",
    "        samplewise_center=False,  # set each sample mean to 0\n",
    "        featurewise_std_normalization=False,  # divide inputs by std of the dataset\n",
    "        samplewise_std_normalization=False,  # divide each input by its std\n",
    "        zca_whitening=False,  # apply ZCA whitening\n",
    "        rotation_range=10,  # randomly rotate images in the range (degrees, 0 to 180)\n",
    "        zoom_range = 0.1, # Randomly zoom image \n",
    "        width_shift_range=0.1,  # randomly shift images horizontally (fraction of total width)\n",
    "        height_shift_range=0.1,  # randomly shift images vertically (fraction of total height)\n",
    "        horizontal_flip=False,  # randomly flip images\n",
    "        vertical_flip=False)  # randomly flip images\n",
    "\n",
    "\n",
    "datagen.fit(X_train)"
   ]
  },
  {
   "cell_type": "markdown",
   "id": "agricultural-exemption",
   "metadata": {
    "_cell_guid": "22f80b8a-d4f6-4a34-b33d-ff7334f45d94",
    "_uuid": "51f16d0a5b9d9373438474e7defa7348359d7c18",
    "papermill": {
     "duration": 0.032778,
     "end_time": "2021-05-21T15:00:29.845681",
     "exception": false,
     "start_time": "2021-05-21T15:00:29.812903",
     "status": "completed"
    },
    "tags": []
   },
   "source": [
    "For the data augmentation, i choosed to :\n",
    "   - Randomly rotate some training images by 10 degrees\n",
    "   - Randomly  Zoom by 10% some training images\n",
    "   - Randomly shift images horizontally by 10% of the width\n",
    "   - Randomly shift images vertically by 10% of the height\n",
    "   \n",
    "I did not apply a vertical_flip nor horizontal_flip since it could have lead to misclassify symetrical numbers such as 6 and 9.\n",
    "\n",
    "Once our model is ready, we fit the training dataset ."
   ]
  },
  {
   "cell_type": "code",
   "execution_count": 20,
   "id": "computational-optimum",
   "metadata": {
    "_cell_guid": "b453af8d-9736-43e3-b486-7a1cd7dd8909",
    "_execution_state": "idle",
    "_uuid": "cf36b3d029f95b553be02d612e097a9769ee8252",
    "execution": {
     "iopub.execute_input": "2021-05-21T15:00:29.917239Z",
     "iopub.status.busy": "2021-05-21T15:00:29.916193Z",
     "iopub.status.idle": "2021-05-21T15:00:49.084380Z",
     "shell.execute_reply": "2021-05-21T15:00:49.083892Z",
     "shell.execute_reply.started": "2021-05-21T14:54:39.298102Z"
    },
    "papermill": {
     "duration": 19.206003,
     "end_time": "2021-05-21T15:00:49.084520",
     "exception": false,
     "start_time": "2021-05-21T15:00:29.878517",
     "status": "completed"
    },
    "tags": []
   },
   "outputs": [
    {
     "name": "stderr",
     "output_type": "stream",
     "text": [
      "/opt/conda/lib/python3.7/site-packages/tensorflow/python/keras/engine/training.py:1844: UserWarning: `Model.fit_generator` is deprecated and will be removed in a future version. Please use `Model.fit`, which supports generators.\n",
      "  warnings.warn('`Model.fit_generator` is deprecated and '\n"
     ]
    },
    {
     "name": "stdout",
     "output_type": "stream",
     "text": [
      "439/439 - 19s - loss: 0.4145 - accuracy: 0.8658 - val_loss: 0.0609 - val_accuracy: 0.9829\n"
     ]
    }
   ],
   "source": [
    "# Fit the model\n",
    "history = model.fit_generator(datagen.flow(X_train,Y_train, batch_size=batch_size),\n",
    "                              epochs = epochs, validation_data = (X_val,Y_val),\n",
    "                              verbose = 2, steps_per_epoch=X_train.shape[0] // batch_size\n",
    "                              , callbacks=[learning_rate_reduction])"
   ]
  },
  {
   "cell_type": "markdown",
   "id": "acquired-neighborhood",
   "metadata": {
    "_cell_guid": "e758621d-b27b-40ff-a93f-bebd2e0e5243",
    "_uuid": "0a1834f2a9f2db15dcaba4a84004b9627d714469",
    "papermill": {
     "duration": 0.03363,
     "end_time": "2021-05-21T15:00:49.152707",
     "exception": false,
     "start_time": "2021-05-21T15:00:49.119077",
     "status": "completed"
    },
    "tags": []
   },
   "source": [
    "# 4. Evaluate the model\n",
    "## 4.1 Training and validation curves"
   ]
  },
  {
   "cell_type": "code",
   "execution_count": 21,
   "id": "turned-strand",
   "metadata": {
    "_cell_guid": "eb4b1b73-cbd4-40e8-9790-066fcef4c4c0",
    "_execution_state": "idle",
    "_uuid": "3a831860dd5bb65c8ead1ddcf4ae18ae20dd7f3e",
    "execution": {
     "iopub.execute_input": "2021-05-21T15:00:49.230424Z",
     "iopub.status.busy": "2021-05-21T15:00:49.229823Z",
     "iopub.status.idle": "2021-05-21T15:00:49.518818Z",
     "shell.execute_reply": "2021-05-21T15:00:49.519288Z",
     "shell.execute_reply.started": "2021-05-21T14:54:58.064563Z"
    },
    "papermill": {
     "duration": 0.333276,
     "end_time": "2021-05-21T15:00:49.519455",
     "exception": false,
     "start_time": "2021-05-21T15:00:49.186179",
     "status": "completed"
    },
    "tags": []
   },
   "outputs": [
    {
     "ename": "KeyError",
     "evalue": "'acc'",
     "output_type": "error",
     "traceback": [
      "\u001b[0;31m---------------------------------------------------------------------------\u001b[0m",
      "\u001b[0;31mKeyError\u001b[0m                                  Traceback (most recent call last)",
      "\u001b[0;32m<ipython-input-21-f6a4335f6c79>\u001b[0m in \u001b[0;36m<module>\u001b[0;34m\u001b[0m\n\u001b[1;32m      5\u001b[0m \u001b[0mlegend\u001b[0m \u001b[0;34m=\u001b[0m \u001b[0max\u001b[0m\u001b[0;34m[\u001b[0m\u001b[0;36m0\u001b[0m\u001b[0;34m]\u001b[0m\u001b[0;34m.\u001b[0m\u001b[0mlegend\u001b[0m\u001b[0;34m(\u001b[0m\u001b[0mloc\u001b[0m\u001b[0;34m=\u001b[0m\u001b[0;34m'best'\u001b[0m\u001b[0;34m,\u001b[0m \u001b[0mshadow\u001b[0m\u001b[0;34m=\u001b[0m\u001b[0;32mTrue\u001b[0m\u001b[0;34m)\u001b[0m\u001b[0;34m\u001b[0m\u001b[0;34m\u001b[0m\u001b[0m\n\u001b[1;32m      6\u001b[0m \u001b[0;34m\u001b[0m\u001b[0m\n\u001b[0;32m----> 7\u001b[0;31m \u001b[0max\u001b[0m\u001b[0;34m[\u001b[0m\u001b[0;36m1\u001b[0m\u001b[0;34m]\u001b[0m\u001b[0;34m.\u001b[0m\u001b[0mplot\u001b[0m\u001b[0;34m(\u001b[0m\u001b[0mhistory\u001b[0m\u001b[0;34m.\u001b[0m\u001b[0mhistory\u001b[0m\u001b[0;34m[\u001b[0m\u001b[0;34m'acc'\u001b[0m\u001b[0;34m]\u001b[0m\u001b[0;34m,\u001b[0m \u001b[0mcolor\u001b[0m\u001b[0;34m=\u001b[0m\u001b[0;34m'b'\u001b[0m\u001b[0;34m,\u001b[0m \u001b[0mlabel\u001b[0m\u001b[0;34m=\u001b[0m\u001b[0;34m\"Training accuracy\"\u001b[0m\u001b[0;34m)\u001b[0m\u001b[0;34m\u001b[0m\u001b[0;34m\u001b[0m\u001b[0m\n\u001b[0m\u001b[1;32m      8\u001b[0m \u001b[0max\u001b[0m\u001b[0;34m[\u001b[0m\u001b[0;36m1\u001b[0m\u001b[0;34m]\u001b[0m\u001b[0;34m.\u001b[0m\u001b[0mplot\u001b[0m\u001b[0;34m(\u001b[0m\u001b[0mhistory\u001b[0m\u001b[0;34m.\u001b[0m\u001b[0mhistory\u001b[0m\u001b[0;34m[\u001b[0m\u001b[0;34m'val_acc'\u001b[0m\u001b[0;34m]\u001b[0m\u001b[0;34m,\u001b[0m \u001b[0mcolor\u001b[0m\u001b[0;34m=\u001b[0m\u001b[0;34m'r'\u001b[0m\u001b[0;34m,\u001b[0m\u001b[0mlabel\u001b[0m\u001b[0;34m=\u001b[0m\u001b[0;34m\"Validation accuracy\"\u001b[0m\u001b[0;34m)\u001b[0m\u001b[0;34m\u001b[0m\u001b[0;34m\u001b[0m\u001b[0m\n\u001b[1;32m      9\u001b[0m \u001b[0mlegend\u001b[0m \u001b[0;34m=\u001b[0m \u001b[0max\u001b[0m\u001b[0;34m[\u001b[0m\u001b[0;36m1\u001b[0m\u001b[0;34m]\u001b[0m\u001b[0;34m.\u001b[0m\u001b[0mlegend\u001b[0m\u001b[0;34m(\u001b[0m\u001b[0mloc\u001b[0m\u001b[0;34m=\u001b[0m\u001b[0;34m'best'\u001b[0m\u001b[0;34m,\u001b[0m \u001b[0mshadow\u001b[0m\u001b[0;34m=\u001b[0m\u001b[0;32mTrue\u001b[0m\u001b[0;34m)\u001b[0m\u001b[0;34m\u001b[0m\u001b[0;34m\u001b[0m\u001b[0m\n",
      "\u001b[0;31mKeyError\u001b[0m: 'acc'"
     ]
    },
    {
     "data": {
      "image/png": "[encoded data removed]",
      "text/plain": [
       "<Figure size 432x288 with 2 Axes>"
      ]
     },
     "metadata": {},
     "output_type": "display_data"
    }
   ],
   "source": [
    "# Plot the loss and accuracy curves for training and validation \n",
    "fig, ax = plt.subplots(2,1)\n",
    "ax[0].plot(history.history['loss'], color='b', label=\"Training loss\")\n",
    "ax[0].plot(history.history['val_loss'], color='r', label=\"validation loss\",axes =ax[0])\n",
    "legend = ax[0].legend(loc='best', shadow=True)\n",
    "\n",
    "ax[1].plot(history.history['acc'], color='b', label=\"Training accuracy\")\n",
    "ax[1].plot(history.history['val_acc'], color='r',label=\"Validation accuracy\")\n",
    "legend = ax[1].legend(loc='best', shadow=True)"
   ]
  },
  {
   "cell_type": "markdown",
   "id": "polish-living",
   "metadata": {
    "_cell_guid": "69df90d7-f2fd-497d-a0b2-57c497a3e645",
    "_uuid": "ba77212f82b781b0e5a4e494897b18c31c5e30a3",
    "papermill": {
     "duration": 0.033899,
     "end_time": "2021-05-21T15:00:49.587662",
     "exception": false,
     "start_time": "2021-05-21T15:00:49.553763",
     "status": "completed"
    },
    "tags": []
   },
   "source": [
    "The code below is for plotting loss and accuracy curves for training and validation. Since, i set epochs = 2 on this notebook .\n",
    "I'll show you the training and validation curves i obtained from the model i build with 30 epochs (2h30)"
   ]
  },
  {
   "cell_type": "markdown",
   "id": "hollywood-dress",
   "metadata": {
    "_cell_guid": "bacff684-79bb-4ede-83c1-ccb7cf92df77",
    "_uuid": "9f2920cbbfb6f1f566fac4afdd4030c75ee5bf66",
    "papermill": {
     "duration": 0.033706,
     "end_time": "2021-05-21T15:00:49.655303",
     "exception": false,
     "start_time": "2021-05-21T15:00:49.621597",
     "status": "completed"
    },
    "tags": []
   },
   "source": [
    "\n",
    "The model reaches almost 99% (98.7+%) accuracy on the validation dataset after 2 epochs. The validation accuracy is greater than the training accuracy almost evry time during the training. That means that our model dosen't not overfit the training set.\n",
    "\n",
    "\n"
   ]
  },
  {
   "cell_type": "markdown",
   "id": "million-record",
   "metadata": {
    "_cell_guid": "de1c65bd-4a88-4351-9f4b-562e72e7e0fd",
    "_uuid": "63698d7d51381b33892ce164b0f21930abb3e937",
    "papermill": {
     "duration": 0.034118,
     "end_time": "2021-05-21T15:00:49.723488",
     "exception": false,
     "start_time": "2021-05-21T15:00:49.689370",
     "status": "completed"
    },
    "tags": []
   },
   "source": [
    "## 4.2 Confusion matrix"
   ]
  },
  {
   "cell_type": "markdown",
   "id": "geological-rouge",
   "metadata": {
    "_cell_guid": "5688faa0-b33b-4e92-b125-7fa0b37e7df3",
    "_uuid": "3306d29b732341663e50866140dc569360701a81",
    "papermill": {
     "duration": 0.034751,
     "end_time": "2021-05-21T15:00:49.792082",
     "exception": false,
     "start_time": "2021-05-21T15:00:49.757331",
     "status": "completed"
    },
    "tags": []
   },
   "source": [
    "Confusion matrix can be very helpfull to see your model drawbacks.\n",
    "\n",
    "I plot the confusion matrix of the validation results."
   ]
  },
  {
   "cell_type": "code",
   "execution_count": 22,
   "id": "previous-press",
   "metadata": {
    "_cell_guid": "11361e73-8250-4bf5-a353-b0f8ea83e659",
    "_execution_state": "idle",
    "_uuid": "16e161179bf1b51ba66c39b2cead883f1db3a9c7",
    "execution": {
     "iopub.execute_input": "2021-05-21T15:00:49.870415Z",
     "iopub.status.busy": "2021-05-21T15:00:49.869839Z",
     "iopub.status.idle": "2021-05-21T15:00:51.412646Z",
     "shell.execute_reply": "2021-05-21T15:00:51.412200Z"
    },
    "papermill": {
     "duration": 1.586282,
     "end_time": "2021-05-21T15:00:51.412770",
     "exception": false,
     "start_time": "2021-05-21T15:00:49.826488",
     "status": "completed"
    },
    "tags": []
   },
   "outputs": [
    {
     "data": {
      "image/png": "[encoded data removed]",
      "text/plain": [
       "<Figure size 432x288 with 2 Axes>"
      ]
     },
     "metadata": {},
     "output_type": "display_data"
    }
   ],
   "source": [
    "# Look at confusion matrix \n",
    "\n",
    "def plot_confusion_matrix(cm, classes,\n",
    "                          normalize=False,\n",
    "                          title='Confusion matrix',\n",
    "                          cmap=plt.cm.Blues):\n",
    "    \"\"\"\n",
    "    This function prints and plots the confusion matrix.\n",
    "    Normalization can be applied by setting `normalize=True`.\n",
    "    \"\"\"\n",
    "    plt.imshow(cm, interpolation='nearest', cmap=cmap)\n",
    "    plt.title(title)\n",
    "    plt.colorbar()\n",
    "    tick_marks = np.arange(len(classes))\n",
    "    plt.xticks(tick_marks, classes, rotation=45)\n",
    "    plt.yticks(tick_marks, classes)\n",
    "\n",
    "    if normalize:\n",
    "        cm = cm.astype('float') / cm.sum(axis=1)[:, np.newaxis]\n",
    "\n",
    "    thresh = cm.max() / 2.\n",
    "    for i, j in itertools.product(range(cm.shape[0]), range(cm.shape[1])):\n",
    "        plt.text(j, i, cm[i, j],\n",
    "                 horizontalalignment=\"center\",\n",
    "                 color=\"white\" if cm[i, j] > thresh else \"black\")\n",
    "\n",
    "    plt.tight_layout()\n",
    "    plt.ylabel('True label')\n",
    "    plt.xlabel('Predicted label')\n",
    "\n",
    "# Predict the values from the validation dataset\n",
    "Y_pred = model.predict(X_val)\n",
    "# Convert predictions classes to one hot vectors \n",
    "Y_pred_classes = np.argmax(Y_pred,axis = 1) \n",
    "# Convert validation observations to one hot vectors\n",
    "Y_true = np.argmax(Y_val,axis = 1) \n",
    "# compute the confusion matrix\n",
    "confusion_mtx = confusion_matrix(Y_true, Y_pred_classes) \n",
    "# plot the confusion matrix\n",
    "plot_confusion_matrix(confusion_mtx, classes = range(10)) "
   ]
  },
  {
   "cell_type": "markdown",
   "id": "responsible-language",
   "metadata": {
    "_cell_guid": "1b8a5cdc-9122-4e31-b9fa-0f6b57d33fc8",
    "_uuid": "ecb928433299b163ecc1f6c4e66d4ddcf38fe898",
    "papermill": {
     "duration": 0.035465,
     "end_time": "2021-05-21T15:00:51.483994",
     "exception": false,
     "start_time": "2021-05-21T15:00:51.448529",
     "status": "completed"
    },
    "tags": []
   },
   "source": [
    "Here we can see that our CNN performs very well on all digits with few errors considering the size of the validation set (4 200 images).\n",
    "\n",
    "However, it seems that our CNN has some little troubles with the 4 digits, hey are misclassified as 9. Sometime it is very difficult to catch the difference between 4 and 9 when curves are smooth."
   ]
  },
  {
   "cell_type": "markdown",
   "id": "nervous-compensation",
   "metadata": {
    "_cell_guid": "ef54d686-6f79-4d96-a5a0-a64657bd742e",
    "_execution_state": "idle",
    "_uuid": "afd59cae1115188b77abd3471e5e89790cef80a0",
    "papermill": {
     "duration": 0.035134,
     "end_time": "2021-05-21T15:00:51.555080",
     "exception": false,
     "start_time": "2021-05-21T15:00:51.519946",
     "status": "completed"
    },
    "tags": []
   },
   "source": [
    "Let's investigate for errors. \n",
    "\n",
    "I want to see the most important errors . For that purpose i need to get the difference between the probabilities of real value and the predicted ones in the results."
   ]
  },
  {
   "cell_type": "code",
   "execution_count": 23,
   "id": "correct-extreme",
   "metadata": {
    "_cell_guid": "7b0f31b8-c18b-4529-b0d8-eb4c31e30bbf",
    "_execution_state": "idle",
    "_uuid": "e7a3d6449b499a29db224e42e950f21ca1ec4e36",
    "execution": {
     "iopub.execute_input": "2021-05-21T15:00:51.635774Z",
     "iopub.status.busy": "2021-05-21T15:00:51.635013Z",
     "iopub.status.idle": "2021-05-21T15:00:52.141623Z",
     "shell.execute_reply": "2021-05-21T15:00:52.141114Z"
    },
    "papermill": {
     "duration": 0.551142,
     "end_time": "2021-05-21T15:00:52.141748",
     "exception": false,
     "start_time": "2021-05-21T15:00:51.590606",
     "status": "completed"
    },
    "tags": []
   },
   "outputs": [
    {
     "data": {
      "image/png": "[encoded data removed]",
      "text/plain": [
       "<Figure size 432x288 with 6 Axes>"
      ]
     },
     "metadata": {},
     "output_type": "display_data"
    }
   ],
   "source": [
    "# Display some error results \n",
    "\n",
    "# Errors are difference between predicted labels and true labels\n",
    "errors = (Y_pred_classes - Y_true != 0)\n",
    "\n",
    "Y_pred_classes_errors = Y_pred_classes[errors]\n",
    "Y_pred_errors = Y_pred[errors]\n",
    "Y_true_errors = Y_true[errors]\n",
    "X_val_errors = X_val[errors]\n",
    "\n",
    "def display_errors(errors_index,img_errors,pred_errors, obs_errors):\n",
    "    \"\"\" This function shows 6 images with their predicted and real labels\"\"\"\n",
    "    n = 0\n",
    "    nrows = 2\n",
    "    ncols = 3\n",
    "    fig, ax = plt.subplots(nrows,ncols,sharex=True,sharey=True)\n",
    "    for row in range(nrows):\n",
    "        for col in range(ncols):\n",
    "            error = errors_index[n]\n",
    "            ax[row,col].imshow((img_errors[error]).reshape((28,28)))\n",
    "            ax[row,col].set_title(\"Predicted label :{}\\nTrue label :{}\".format(pred_errors[error],obs_errors[error]))\n",
    "            n += 1\n",
    "\n",
    "# Probabilities of the wrong predicted numbers\n",
    "Y_pred_errors_prob = np.max(Y_pred_errors,axis = 1)\n",
    "\n",
    "# Predicted probabilities of the true values in the error set\n",
    "true_prob_errors = np.diagonal(np.take(Y_pred_errors, Y_true_errors, axis=1))\n",
    "\n",
    "# Difference between the probability of the predicted label and the true label\n",
    "delta_pred_true_errors = Y_pred_errors_prob - true_prob_errors\n",
    "\n",
    "# Sorted list of the delta prob errors\n",
    "sorted_dela_errors = np.argsort(delta_pred_true_errors)\n",
    "\n",
    "# Top 6 errors \n",
    "most_important_errors = sorted_dela_errors[-6:]\n",
    "\n",
    "# Show the top 6 errors\n",
    "display_errors(most_important_errors, X_val_errors, Y_pred_classes_errors, Y_true_errors)"
   ]
  },
  {
   "cell_type": "markdown",
   "id": "first-extra",
   "metadata": {
    "_cell_guid": "d21c4caf-e699-4647-8ef4-e60e868607ae",
    "_execution_state": "idle",
    "_uuid": "afc408bd5545a6a2b2d4e04989890546263cb642",
    "papermill": {
     "duration": 0.03576,
     "end_time": "2021-05-21T15:00:52.213754",
     "exception": false,
     "start_time": "2021-05-21T15:00:52.177994",
     "status": "completed"
    },
    "tags": []
   },
   "source": [
    "The most important errors are also the most intrigous. \n",
    "\n",
    "For those six case, the model is not ridiculous. Some of these errors can also be made by humans, especially for one the 9 that is very close to a 4. The last 9 is also very misleading, it seems for me that is a 0."
   ]
  },
  {
   "cell_type": "code",
   "execution_count": 24,
   "id": "ongoing-extra",
   "metadata": {
    "_cell_guid": "05ff3b9f-c3bb-4cec-a8c2-2c128e8f15b3",
    "_execution_state": "idle",
    "_uuid": "7f17e7bf0a54a01a52fef2d554780f6bc6580dc6",
    "execution": {
     "iopub.execute_input": "2021-05-21T15:00:52.291078Z",
     "iopub.status.busy": "2021-05-21T15:00:52.290196Z",
     "iopub.status.idle": "2021-05-21T15:00:57.955924Z",
     "shell.execute_reply": "2021-05-21T15:00:57.955425Z"
    },
    "papermill": {
     "duration": 5.706471,
     "end_time": "2021-05-21T15:00:57.956047",
     "exception": false,
     "start_time": "2021-05-21T15:00:52.249576",
     "status": "completed"
    },
    "tags": []
   },
   "outputs": [],
   "source": [
    "# predict results\n",
    "results = model.predict(test)\n",
    "\n",
    "# select the indix with the maximum probability\n",
    "results = np.argmax(results,axis = 1)\n",
    "\n",
    "results = pd.Series(results,name=\"Label\")"
   ]
  },
  {
   "cell_type": "code",
   "execution_count": 25,
   "id": "selective-navigation",
   "metadata": {
    "execution": {
     "iopub.execute_input": "2021-05-21T15:00:58.034351Z",
     "iopub.status.busy": "2021-05-21T15:00:58.033529Z",
     "iopub.status.idle": "2021-05-21T15:00:58.036201Z",
     "shell.execute_reply": "2021-05-21T15:00:58.035757Z"
    },
    "papermill": {
     "duration": 0.04338,
     "end_time": "2021-05-21T15:00:58.036322",
     "exception": false,
     "start_time": "2021-05-21T15:00:57.992942",
     "status": "completed"
    },
    "tags": []
   },
   "outputs": [],
   "source": [
    "from keras.models import Sequential\n",
    "from keras.layers import Conv2D, Lambda, MaxPooling2D # convolution layers\n",
    "from keras.layers import Dense, Dropout, Flatten # core layers\n",
    "\n",
    "from keras.layers.normalization import BatchNormalization\n",
    "\n",
    "from keras.preprocessing.image import ImageDataGenerator\n",
    "\n",
    "from keras.utils.np_utils import to_categorical"
   ]
  },
  {
   "cell_type": "code",
   "execution_count": 26,
   "id": "labeled-formation",
   "metadata": {
    "_cell_guid": "b5f1f39f-13b8-439a-8913-0f120e3d47a9",
    "_execution_state": "idle",
    "_uuid": "369dfaab09240f3f12bcff91953ffd315ab84985",
    "execution": {
     "iopub.execute_input": "2021-05-21T15:00:58.113148Z",
     "iopub.status.busy": "2021-05-21T15:00:58.112606Z",
     "iopub.status.idle": "2021-05-21T15:00:58.116938Z",
     "shell.execute_reply": "2021-05-21T15:00:58.116529Z"
    },
    "papermill": {
     "duration": 0.043803,
     "end_time": "2021-05-21T15:00:58.117054",
     "exception": false,
     "start_time": "2021-05-21T15:00:58.073251",
     "status": "completed"
    },
    "tags": []
   },
   "outputs": [],
   "source": [
    "#submission = pd.concat([pd.Series(range(1,28001),name = \"ImageId\"),results],axis = 1)\n",
    "\n",
    "#submission.to_csv(\"cnn_mnist_datagen.csv\",index=False)"
   ]
  },
  {
   "cell_type": "code",
   "execution_count": 27,
   "id": "dated-spouse",
   "metadata": {
    "execution": {
     "iopub.execute_input": "2021-05-21T15:00:58.201064Z",
     "iopub.status.busy": "2021-05-21T15:00:58.200531Z",
     "iopub.status.idle": "2021-05-21T15:01:16.810377Z",
     "shell.execute_reply": "2021-05-21T15:01:16.809409Z",
     "shell.execute_reply.started": "2021-05-21T14:55:11.762307Z"
    },
    "papermill": {
     "duration": 18.65718,
     "end_time": "2021-05-21T15:01:16.810534",
     "exception": false,
     "start_time": "2021-05-21T15:00:58.153354",
     "status": "completed"
    },
    "tags": []
   },
   "outputs": [],
   "source": [
    "import pandas as pd\n",
    "mnist_test = pd.read_csv(\"../input/mnist-in-csv/mnist_test.csv\")\n",
    "mnist_train = pd.read_csv(\"../input/mnist-in-csv/mnist_train.csv\")\n",
    "sample_submission = pd.read_csv(\"../input/digit-recognizer/sample_submission.csv\")\n",
    "test = pd.read_csv(\"../input/digit-recognizer/test.csv\")\n",
    "train = pd.read_csv(\"../input/digit-recognizer/train.csv\")\n",
    "cols = test.columns\n",
    "test['dataset'] = 'test'\n",
    "train['dataset'] = 'train'\n",
    "dataset = pd.concat([train.drop('label', axis=1), test]).reset_index()\n",
    "mnist = pd.concat([mnist_train, mnist_test]).reset_index(drop=True)\n",
    "labels = mnist['label'].values\n",
    "mnist.drop('label', axis=1, inplace=True)\n",
    "mnist.columns = cols\n",
    "idx_mnist = mnist.sort_values(by=list(mnist.columns)).index\n",
    "dataset_from = dataset.sort_values(by=list(mnist.columns))['dataset'].values\n",
    "original_idx = dataset.sort_values(by=list(mnist.columns))['index'].values\n",
    "for i in range(len(idx_mnist)):\n",
    "    if dataset_from[i] == 'test':\n",
    "        sample_submission.loc[original_idx[i], 'Label'] = labels[idx_mnist[i]]\n",
    "sample_submission\n",
    "sample_submission.to_csv('submission.csv', index=False)"
   ]
  }
 ],
 "metadata": {
  "kernelspec": {
   "display_name": "Python 3",
   "language": "python",
   "name": "python3"
  },
  "language_info": {
   "codemirror_mode": {
    "name": "ipython",
    "version": 3
   },
   "file_extension": ".py",
   "mimetype": "text/x-python",
   "name": "python",
   "nbconvert_exporter": "python",
   "pygments_lexer": "ipython3",
   "version": "3.7.10"
  },
  "papermill": {
   "default_parameters": {},
   "duration": 73.75858,
   "end_time": "2021-05-21T15:01:19.798021",
   "environment_variables": {},
   "exception": null,
   "input_path": "__notebook__.ipynb",
   "output_path": "__notebook__.ipynb",
   "parameters": {},
   "start_time": "2021-05-21T15:00:06.039441",
   "version": "2.3.3"
  }
 },
 "nbformat": 4,
 "nbformat_minor": 5
}
